{
 "cells": [
  {
   "cell_type": "code",
   "execution_count": 22,
   "metadata": {},
   "outputs": [
    {
     "ename": "IndexError",
     "evalue": "too many indices for array: array is 1-dimensional, but 2 were indexed",
     "output_type": "error",
     "traceback": [
      "\u001b[1;31m---------------------------------------------------------------------------\u001b[0m",
      "\u001b[1;31mIndexError\u001b[0m                                Traceback (most recent call last)",
      "Cell \u001b[1;32mIn[22], line 28\u001b[0m\n\u001b[0;32m     26\u001b[0m x\u001b[38;5;241m=\u001b[39m\u001b[38;5;241m0\u001b[39m\n\u001b[0;32m     27\u001b[0m \u001b[38;5;28;01mfor\u001b[39;00m feature \u001b[38;5;129;01min\u001b[39;00m features_selecionadas:\n\u001b[1;32m---> 28\u001b[0m     seaborn\u001b[38;5;241m.\u001b[39mkdeplot(covid, x\u001b[38;5;241m=\u001b[39mfeature,   hue\u001b[38;5;241m=\u001b[39m\u001b[38;5;124m'\u001b[39m\u001b[38;5;124mDEATH\u001b[39m\u001b[38;5;124m'\u001b[39m, ax\u001b[38;5;241m=\u001b[39m\u001b[43max\u001b[49m\u001b[43m[\u001b[49m\u001b[38;5;241;43m0\u001b[39;49m\u001b[43m,\u001b[49m\u001b[43mx\u001b[49m\u001b[43m]\u001b[49m)\n\u001b[0;32m     29\u001b[0m     x\u001b[38;5;241m+\u001b[39m\u001b[38;5;241m1\u001b[39m\n\u001b[0;32m     31\u001b[0m pyplot\u001b[38;5;241m.\u001b[39mshow()\n",
      "\u001b[1;31mIndexError\u001b[0m: too many indices for array: array is 1-dimensional, but 2 were indexed"
     ]
    },
    {
     "data": {
      "image/png": "[encoded data removed]",
      "text/plain": [
       "<Figure size 640x480 with 11 Axes>"
      ]
     },
     "metadata": {},
     "output_type": "display_data"
    }
   ],
   "source": [
    "import numpy\n",
    "import pandas\n",
    "import keras\n",
    "from matplotlib import pyplot\n",
    "import itertools\n",
    "from sklearn.preprocessing import StandardScaler\n",
    "from sklearn.model_selection import StratifiedKFold\n",
    "import seaborn\n",
    "\n",
    "\n",
    "features_selecionadas=[\"SEX\", \"AGE\", \"DIABETES\", \"COPD\", \n",
    "                       \"ASTHMA\", \"INMSUPR\", \"HIPERTENSION\",\n",
    "                       \"CARDIOVASCULAR\",\"OBESITY\", \"RENAL_CHRONIC\", \"TOBACCO\" ]\n",
    "coluna_classificador=\"DEATH\"\n",
    "features_com_classificador = features_selecionadas.copy()\n",
    "features_com_classificador.append(coluna_classificador)\n",
    "covid = pandas.read_csv('datasets/covid.csv', sep=',', decimal='.')\n",
    "covid['DEATH'] = (covid['DATE_DIED'] == \"9999-99-99\").astype(int).to_numpy()[:, numpy.newaxis]  \n",
    "covid = covid[features_com_classificador]\n",
    "\n",
    "for feature in features_selecionadas:\n",
    "    if(feature != \"AGE\"):\n",
    "        covid.drop(covid.loc[covid[feature] > 2].index, inplace=True)\n",
    "\n",
    "pyplot.figure()\n",
    "\n",
    "fig, ax = pyplot.subplots(1,11)\n",
    "x=0\n",
    "for feature in features_selecionadas:\n",
    "    seaborn.kdeplot(covid, x=feature,   hue='DEATH', ax=ax[x])\n",
    "    x+1\n",
    "\n",
    "pyplot.show()\n",
    "\n",
    "\n"
   ]
  },
  {
   "cell_type": "code",
   "execution_count": null,
   "metadata": {},
   "outputs": [],
   "source": []
  }
 ],
 "metadata": {
  "kernelspec": {
   "display_name": "venv",
   "language": "python",
   "name": "python3"
  },
  "language_info": {
   "codemirror_mode": {
    "name": "ipython",
    "version": 3
   },
   "file_extension": ".py",
   "mimetype": "text/x-python",
   "name": "python",
   "nbconvert_exporter": "python",
   "pygments_lexer": "ipython3",
   "version": "3.11.9"
  }
 },
 "nbformat": 4,
 "nbformat_minor": 2
}
